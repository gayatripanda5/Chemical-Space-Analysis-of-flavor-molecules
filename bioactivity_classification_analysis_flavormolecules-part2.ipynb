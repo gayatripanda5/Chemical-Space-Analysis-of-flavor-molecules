{
 "cells": [
  {
   "cell_type": "code",
   "execution_count": 5,
   "metadata": {},
   "outputs": [],
   "source": [
    "import pandas as pd\n",
    "import numpy as np\n",
    "df1=pd.read_csv(\"bioactivity_data_flavormolecules_actual_datapreprocessed_output22.csv\")"
   ]
  },
  {
   "cell_type": "markdown",
   "metadata": {},
   "source": [
    "### **Label compounds as Active, Inactive and Intermediate**\n",
    "Labeling compounds as either being active, inactive or intermediate\n",
    "The bioactivity data is in the IC50 unit. Compounds having values of less than 1000 nM will be considered to be active while those greater than 10,000 nM will be considered to be inactive. As for those values in between 1,000 and 10,000 nM will be referred to as intermediate."
   ]
  },
  {
   "cell_type": "code",
   "execution_count": 6,
   "metadata": {},
   "outputs": [],
   "source": [
    "bioactivity_threshold = []\n",
    "for i in df1.standard_value:\n",
    "    if float(i) >= 10000:\n",
    "        bioactivity_threshold.append(\"inactive\")\n",
    "    elif float(i) <= 1000:\n",
    "        bioactivity_threshold.append(\"active\")\n",
    "    else:\n",
    "        bioactivity_threshold.append(\"intermediate\")"
   ]
  },
  {
   "cell_type": "code",
   "execution_count": 7,
   "metadata": {},
   "outputs": [
    {
     "data": {
      "text/html": [
       "<div>\n",
       "<style scoped>\n",
       "    .dataframe tbody tr th:only-of-type {\n",
       "        vertical-align: middle;\n",
       "    }\n",
       "\n",
       "    .dataframe tbody tr th {\n",
       "        vertical-align: top;\n",
       "    }\n",
       "\n",
       "    .dataframe thead th {\n",
       "        text-align: right;\n",
       "    }\n",
       "</style>\n",
       "<table border=\"1\" class=\"dataframe\">\n",
       "  <thead>\n",
       "    <tr style=\"text-align: right;\">\n",
       "      <th></th>\n",
       "      <th>chembl_id</th>\n",
       "      <th>molecule_pref_name</th>\n",
       "      <th>standard_value</th>\n",
       "      <th>target_chembl_id</th>\n",
       "      <th>target_pref_name</th>\n",
       "      <th>target_organism</th>\n",
       "      <th>class</th>\n",
       "    </tr>\n",
       "  </thead>\n",
       "  <tbody>\n",
       "    <tr>\n",
       "      <th>0</th>\n",
       "      <td>CHEMBL165</td>\n",
       "      <td>RESVERATROL</td>\n",
       "      <td>0.0225</td>\n",
       "      <td>CHEMBL399</td>\n",
       "      <td>HeLa</td>\n",
       "      <td>Homo sapiens</td>\n",
       "      <td>active</td>\n",
       "    </tr>\n",
       "    <tr>\n",
       "      <th>1</th>\n",
       "      <td>CHEMBL19224</td>\n",
       "      <td>PAPAVERINE</td>\n",
       "      <td>0.0590</td>\n",
       "      <td>CHEMBL613633</td>\n",
       "      <td>Ileum</td>\n",
       "      <td>Rattus norvegicus</td>\n",
       "      <td>active</td>\n",
       "    </tr>\n",
       "    <tr>\n",
       "      <th>2</th>\n",
       "      <td>CHEMBL50</td>\n",
       "      <td>QUERCETIN</td>\n",
       "      <td>0.1100</td>\n",
       "      <td>CHEMBL2362975</td>\n",
       "      <td>No relevant target</td>\n",
       "      <td>NaN</td>\n",
       "      <td>active</td>\n",
       "    </tr>\n",
       "    <tr>\n",
       "      <th>3</th>\n",
       "      <td>CHEMBL107</td>\n",
       "      <td>COLCHICINE</td>\n",
       "      <td>0.3600</td>\n",
       "      <td>CHEMBL3879801</td>\n",
       "      <td>NON-PROTEIN TARGET</td>\n",
       "      <td>NaN</td>\n",
       "      <td>active</td>\n",
       "    </tr>\n",
       "    <tr>\n",
       "      <th>4</th>\n",
       "      <td>CHEMBL441687</td>\n",
       "      <td>GLYCYRRHIZIN</td>\n",
       "      <td>0.4000</td>\n",
       "      <td>CHEMBL3746</td>\n",
       "      <td>11-beta-hydroxysteroid dehydrogenase 2</td>\n",
       "      <td>Homo sapiens</td>\n",
       "      <td>active</td>\n",
       "    </tr>\n",
       "  </tbody>\n",
       "</table>\n",
       "</div>"
      ],
      "text/plain": [
       "      chembl_id molecule_pref_name  standard_value target_chembl_id  \\\n",
       "0     CHEMBL165        RESVERATROL          0.0225        CHEMBL399   \n",
       "1   CHEMBL19224         PAPAVERINE          0.0590     CHEMBL613633   \n",
       "2      CHEMBL50          QUERCETIN          0.1100    CHEMBL2362975   \n",
       "3     CHEMBL107         COLCHICINE          0.3600    CHEMBL3879801   \n",
       "4  CHEMBL441687       GLYCYRRHIZIN          0.4000       CHEMBL3746   \n",
       "\n",
       "                         target_pref_name    target_organism   class  \n",
       "0                                    HeLa       Homo sapiens  active  \n",
       "1                                   Ileum  Rattus norvegicus  active  \n",
       "2                      No relevant target                NaN  active  \n",
       "3                      NON-PROTEIN TARGET                NaN  active  \n",
       "4  11-beta-hydroxysteroid dehydrogenase 2       Homo sapiens  active  "
      ]
     },
     "execution_count": 7,
     "metadata": {},
     "output_type": "execute_result"
    }
   ],
   "source": [
    "bioactivity_class = pd.Series(bioactivity_threshold, name='class')\n",
    "df2 = pd.concat([df1, bioactivity_class], axis=1)\n",
    "df2.rename(columns = {'molecule_chembl_id':'chembl_id'}, inplace = True) \n",
    "df2.head()"
   ]
  },
  {
   "cell_type": "code",
   "execution_count": 8,
   "metadata": {},
   "outputs": [],
   "source": [
    "#! conda install -c rdkit rdkit -y\n",
    "import sys\n",
    "sys.path.append('/usr/local/lib/python3.7/site-packages/')\n",
    "import matplotlib.pyplot as plt"
   ]
  },
  {
   "cell_type": "code",
   "execution_count": 5,
   "metadata": {},
   "outputs": [
    {
     "data": {
      "text/html": [
       "<div>\n",
       "<style scoped>\n",
       "    .dataframe tbody tr th:only-of-type {\n",
       "        vertical-align: middle;\n",
       "    }\n",
       "\n",
       "    .dataframe tbody tr th {\n",
       "        vertical-align: top;\n",
       "    }\n",
       "\n",
       "    .dataframe thead th {\n",
       "        text-align: right;\n",
       "    }\n",
       "</style>\n",
       "<table border=\"1\" class=\"dataframe\">\n",
       "  <thead>\n",
       "    <tr style=\"text-align: right;\">\n",
       "      <th></th>\n",
       "      <th>chembl_id</th>\n",
       "      <th>molecule_pref_name</th>\n",
       "      <th>standard_value</th>\n",
       "      <th>target_chembl_id</th>\n",
       "      <th>target_pref_name</th>\n",
       "      <th>target_organism</th>\n",
       "      <th>class</th>\n",
       "    </tr>\n",
       "  </thead>\n",
       "  <tbody>\n",
       "    <tr>\n",
       "      <th>0</th>\n",
       "      <td>CHEMBL165</td>\n",
       "      <td>RESVERATROL</td>\n",
       "      <td>0.0225</td>\n",
       "      <td>CHEMBL399</td>\n",
       "      <td>HeLa</td>\n",
       "      <td>Homo sapiens</td>\n",
       "      <td>active</td>\n",
       "    </tr>\n",
       "    <tr>\n",
       "      <th>1</th>\n",
       "      <td>CHEMBL19224</td>\n",
       "      <td>PAPAVERINE</td>\n",
       "      <td>0.0590</td>\n",
       "      <td>CHEMBL613633</td>\n",
       "      <td>Ileum</td>\n",
       "      <td>Rattus norvegicus</td>\n",
       "      <td>active</td>\n",
       "    </tr>\n",
       "    <tr>\n",
       "      <th>2</th>\n",
       "      <td>CHEMBL50</td>\n",
       "      <td>QUERCETIN</td>\n",
       "      <td>0.1100</td>\n",
       "      <td>CHEMBL2362975</td>\n",
       "      <td>No relevant target</td>\n",
       "      <td>NaN</td>\n",
       "      <td>active</td>\n",
       "    </tr>\n",
       "    <tr>\n",
       "      <th>3</th>\n",
       "      <td>CHEMBL107</td>\n",
       "      <td>COLCHICINE</td>\n",
       "      <td>0.3600</td>\n",
       "      <td>CHEMBL3879801</td>\n",
       "      <td>NON-PROTEIN TARGET</td>\n",
       "      <td>NaN</td>\n",
       "      <td>active</td>\n",
       "    </tr>\n",
       "    <tr>\n",
       "      <th>4</th>\n",
       "      <td>CHEMBL441687</td>\n",
       "      <td>GLYCYRRHIZIN</td>\n",
       "      <td>0.4000</td>\n",
       "      <td>CHEMBL3746</td>\n",
       "      <td>11-beta-hydroxysteroid dehydrogenase 2</td>\n",
       "      <td>Homo sapiens</td>\n",
       "      <td>active</td>\n",
       "    </tr>\n",
       "  </tbody>\n",
       "</table>\n",
       "</div>"
      ],
      "text/plain": [
       "      chembl_id molecule_pref_name  standard_value target_chembl_id  \\\n",
       "0     CHEMBL165        RESVERATROL          0.0225        CHEMBL399   \n",
       "1   CHEMBL19224         PAPAVERINE          0.0590     CHEMBL613633   \n",
       "2      CHEMBL50          QUERCETIN          0.1100    CHEMBL2362975   \n",
       "3     CHEMBL107         COLCHICINE          0.3600    CHEMBL3879801   \n",
       "4  CHEMBL441687       GLYCYRRHIZIN          0.4000       CHEMBL3746   \n",
       "\n",
       "                         target_pref_name    target_organism   class  \n",
       "0                                    HeLa       Homo sapiens  active  \n",
       "1                                   Ileum  Rattus norvegicus  active  \n",
       "2                      No relevant target                NaN  active  \n",
       "3                      NON-PROTEIN TARGET                NaN  active  \n",
       "4  11-beta-hydroxysteroid dehydrogenase 2       Homo sapiens  active  "
      ]
     },
     "execution_count": 5,
     "metadata": {},
     "output_type": "execute_result"
    }
   ],
   "source": [
    "df2.head()"
   ]
  },
  {
   "cell_type": "markdown",
   "metadata": {},
   "source": [
    "### **Convert IC50 to pIC50**\n",
    "To allow **IC50** data to be more uniformly distributed, we will convert **IC50** to the negative logarithmic scale which is essentially **-log10(IC50)**.\n",
    "\n",
    "This custom function pIC50() will accept a DataFrame as input and will:\n",
    "* Take the IC50 values from the ``standard_value`` column and converts it from nM to M by multiplying the value by 10$^{-9}$\n",
    "* Take the molar value and apply -log10\n",
    "* Delete the ``standard_value`` column and create a new ``pIC50`` column\n",
    "\n",
    "Point to note: Values greater than 100,000,000 will be fixed at 100,000,000 otherwise the negative logarithmic value will become negative."
   ]
  },
  {
   "cell_type": "code",
   "execution_count": 9,
   "metadata": {},
   "outputs": [
    {
     "data": {
      "text/plain": [
       "count    3.650000e+02\n",
       "mean     5.559458e+06\n",
       "std      5.365129e+07\n",
       "min      2.250000e-02\n",
       "25%      1.220000e+03\n",
       "50%      1.700000e+04\n",
       "75%      1.200000e+05\n",
       "max      9.069430e+08\n",
       "Name: standard_value, dtype: float64"
      ]
     },
     "execution_count": 9,
     "metadata": {},
     "output_type": "execute_result"
    }
   ],
   "source": [
    "df2.standard_value.describe()"
   ]
  },
  {
   "cell_type": "code",
   "execution_count": 10,
   "metadata": {},
   "outputs": [],
   "source": [
    "#norm = []\n",
    "df2['standard_value_norm']=df2['standard_value']\n",
    "for i in range(len(df2['standard_value'])):\n",
    "    k=df2['standard_value_norm'][i]\n",
    "    if k > 100000000:\n",
    "        #df['column name'] = df['column name'].replace(['old value'],'new value')\n",
    "        df2[\"standard_value_norm\"]=df2[\"standard_value_norm\"].replace([k],100000000)"
   ]
  },
  {
   "cell_type": "code",
   "execution_count": 11,
   "metadata": {},
   "outputs": [
    {
     "data": {
      "text/plain": [
       "count    3.650000e+02\n",
       "mean     2.328929e+06\n",
       "std      1.250262e+07\n",
       "min      2.250000e-02\n",
       "25%      1.220000e+03\n",
       "50%      1.700000e+04\n",
       "75%      1.200000e+05\n",
       "max      1.000000e+08\n",
       "Name: standard_value_norm, dtype: float64"
      ]
     },
     "execution_count": 11,
     "metadata": {},
     "output_type": "execute_result"
    }
   ],
   "source": [
    "df2.standard_value_norm.describe()"
   ]
  },
  {
   "cell_type": "code",
   "execution_count": 12,
   "metadata": {},
   "outputs": [],
   "source": [
    "pIC50 = []\n",
    "for i in df2['standard_value_norm']:\n",
    "    molar = i*(10**-9) # Converts nM to M\n",
    "    pIC50.append(-np.log10(molar))"
   ]
  },
  {
   "cell_type": "code",
   "execution_count": 13,
   "metadata": {},
   "outputs": [
    {
     "data": {
      "text/plain": [
       "365"
      ]
     },
     "execution_count": 13,
     "metadata": {},
     "output_type": "execute_result"
    }
   ],
   "source": [
    "len(df2)"
   ]
  },
  {
   "cell_type": "code",
   "execution_count": 73,
   "metadata": {},
   "outputs": [
    {
     "data": {
      "text/plain": [
       "365"
      ]
     },
     "execution_count": 73,
     "metadata": {},
     "output_type": "execute_result"
    }
   ],
   "source": [
    "len(pIC50)"
   ]
  },
  {
   "cell_type": "code",
   "execution_count": 14,
   "metadata": {},
   "outputs": [
    {
     "data": {
      "text/html": [
       "<div>\n",
       "<style scoped>\n",
       "    .dataframe tbody tr th:only-of-type {\n",
       "        vertical-align: middle;\n",
       "    }\n",
       "\n",
       "    .dataframe tbody tr th {\n",
       "        vertical-align: top;\n",
       "    }\n",
       "\n",
       "    .dataframe thead th {\n",
       "        text-align: right;\n",
       "    }\n",
       "</style>\n",
       "<table border=\"1\" class=\"dataframe\">\n",
       "  <thead>\n",
       "    <tr style=\"text-align: right;\">\n",
       "      <th></th>\n",
       "      <th>chembl_id</th>\n",
       "      <th>molecule_pref_name</th>\n",
       "      <th>standard_value</th>\n",
       "      <th>target_chembl_id</th>\n",
       "      <th>target_pref_name</th>\n",
       "      <th>target_organism</th>\n",
       "      <th>class</th>\n",
       "      <th>standard_value_norm</th>\n",
       "      <th>pIC50</th>\n",
       "    </tr>\n",
       "  </thead>\n",
       "  <tbody>\n",
       "    <tr>\n",
       "      <th>0</th>\n",
       "      <td>CHEMBL165</td>\n",
       "      <td>RESVERATROL</td>\n",
       "      <td>0.0225</td>\n",
       "      <td>CHEMBL399</td>\n",
       "      <td>HeLa</td>\n",
       "      <td>Homo sapiens</td>\n",
       "      <td>active</td>\n",
       "      <td>0.0225</td>\n",
       "      <td>10.647817</td>\n",
       "    </tr>\n",
       "    <tr>\n",
       "      <th>1</th>\n",
       "      <td>CHEMBL19224</td>\n",
       "      <td>PAPAVERINE</td>\n",
       "      <td>0.0590</td>\n",
       "      <td>CHEMBL613633</td>\n",
       "      <td>Ileum</td>\n",
       "      <td>Rattus norvegicus</td>\n",
       "      <td>active</td>\n",
       "      <td>0.0590</td>\n",
       "      <td>10.229148</td>\n",
       "    </tr>\n",
       "    <tr>\n",
       "      <th>2</th>\n",
       "      <td>CHEMBL50</td>\n",
       "      <td>QUERCETIN</td>\n",
       "      <td>0.1100</td>\n",
       "      <td>CHEMBL2362975</td>\n",
       "      <td>No relevant target</td>\n",
       "      <td>NaN</td>\n",
       "      <td>active</td>\n",
       "      <td>0.1100</td>\n",
       "      <td>9.958607</td>\n",
       "    </tr>\n",
       "    <tr>\n",
       "      <th>3</th>\n",
       "      <td>CHEMBL107</td>\n",
       "      <td>COLCHICINE</td>\n",
       "      <td>0.3600</td>\n",
       "      <td>CHEMBL3879801</td>\n",
       "      <td>NON-PROTEIN TARGET</td>\n",
       "      <td>NaN</td>\n",
       "      <td>active</td>\n",
       "      <td>0.3600</td>\n",
       "      <td>9.443697</td>\n",
       "    </tr>\n",
       "    <tr>\n",
       "      <th>4</th>\n",
       "      <td>CHEMBL441687</td>\n",
       "      <td>GLYCYRRHIZIN</td>\n",
       "      <td>0.4000</td>\n",
       "      <td>CHEMBL3746</td>\n",
       "      <td>11-beta-hydroxysteroid dehydrogenase 2</td>\n",
       "      <td>Homo sapiens</td>\n",
       "      <td>active</td>\n",
       "      <td>0.4000</td>\n",
       "      <td>9.397940</td>\n",
       "    </tr>\n",
       "  </tbody>\n",
       "</table>\n",
       "</div>"
      ],
      "text/plain": [
       "      chembl_id molecule_pref_name  standard_value target_chembl_id  \\\n",
       "0     CHEMBL165        RESVERATROL          0.0225        CHEMBL399   \n",
       "1   CHEMBL19224         PAPAVERINE          0.0590     CHEMBL613633   \n",
       "2      CHEMBL50          QUERCETIN          0.1100    CHEMBL2362975   \n",
       "3     CHEMBL107         COLCHICINE          0.3600    CHEMBL3879801   \n",
       "4  CHEMBL441687       GLYCYRRHIZIN          0.4000       CHEMBL3746   \n",
       "\n",
       "                         target_pref_name    target_organism   class  \\\n",
       "0                                    HeLa       Homo sapiens  active   \n",
       "1                                   Ileum  Rattus norvegicus  active   \n",
       "2                      No relevant target                NaN  active   \n",
       "3                      NON-PROTEIN TARGET                NaN  active   \n",
       "4  11-beta-hydroxysteroid dehydrogenase 2       Homo sapiens  active   \n",
       "\n",
       "   standard_value_norm      pIC50  \n",
       "0               0.0225  10.647817  \n",
       "1               0.0590  10.229148  \n",
       "2               0.1100   9.958607  \n",
       "3               0.3600   9.443697  \n",
       "4               0.4000   9.397940  "
      ]
     },
     "execution_count": 14,
     "metadata": {},
     "output_type": "execute_result"
    }
   ],
   "source": [
    "df2['pIC50']=pIC50\n",
    "df2.head()"
   ]
  },
  {
   "cell_type": "code",
   "execution_count": 15,
   "metadata": {},
   "outputs": [
    {
     "data": {
      "text/html": [
       "<div>\n",
       "<style scoped>\n",
       "    .dataframe tbody tr th:only-of-type {\n",
       "        vertical-align: middle;\n",
       "    }\n",
       "\n",
       "    .dataframe tbody tr th {\n",
       "        vertical-align: top;\n",
       "    }\n",
       "\n",
       "    .dataframe thead th {\n",
       "        text-align: right;\n",
       "    }\n",
       "</style>\n",
       "<table border=\"1\" class=\"dataframe\">\n",
       "  <thead>\n",
       "    <tr style=\"text-align: right;\">\n",
       "      <th></th>\n",
       "      <th>chembl_id</th>\n",
       "      <th>molecule_pref_name</th>\n",
       "      <th>target_chembl_id</th>\n",
       "      <th>target_pref_name</th>\n",
       "      <th>target_organism</th>\n",
       "      <th>class</th>\n",
       "      <th>pIC50</th>\n",
       "    </tr>\n",
       "  </thead>\n",
       "  <tbody>\n",
       "    <tr>\n",
       "      <th>0</th>\n",
       "      <td>CHEMBL165</td>\n",
       "      <td>RESVERATROL</td>\n",
       "      <td>CHEMBL399</td>\n",
       "      <td>HeLa</td>\n",
       "      <td>Homo sapiens</td>\n",
       "      <td>active</td>\n",
       "      <td>10.647817</td>\n",
       "    </tr>\n",
       "    <tr>\n",
       "      <th>1</th>\n",
       "      <td>CHEMBL19224</td>\n",
       "      <td>PAPAVERINE</td>\n",
       "      <td>CHEMBL613633</td>\n",
       "      <td>Ileum</td>\n",
       "      <td>Rattus norvegicus</td>\n",
       "      <td>active</td>\n",
       "      <td>10.229148</td>\n",
       "    </tr>\n",
       "    <tr>\n",
       "      <th>2</th>\n",
       "      <td>CHEMBL50</td>\n",
       "      <td>QUERCETIN</td>\n",
       "      <td>CHEMBL2362975</td>\n",
       "      <td>No relevant target</td>\n",
       "      <td>NaN</td>\n",
       "      <td>active</td>\n",
       "      <td>9.958607</td>\n",
       "    </tr>\n",
       "    <tr>\n",
       "      <th>3</th>\n",
       "      <td>CHEMBL107</td>\n",
       "      <td>COLCHICINE</td>\n",
       "      <td>CHEMBL3879801</td>\n",
       "      <td>NON-PROTEIN TARGET</td>\n",
       "      <td>NaN</td>\n",
       "      <td>active</td>\n",
       "      <td>9.443697</td>\n",
       "    </tr>\n",
       "    <tr>\n",
       "      <th>4</th>\n",
       "      <td>CHEMBL441687</td>\n",
       "      <td>GLYCYRRHIZIN</td>\n",
       "      <td>CHEMBL3746</td>\n",
       "      <td>11-beta-hydroxysteroid dehydrogenase 2</td>\n",
       "      <td>Homo sapiens</td>\n",
       "      <td>active</td>\n",
       "      <td>9.397940</td>\n",
       "    </tr>\n",
       "  </tbody>\n",
       "</table>\n",
       "</div>"
      ],
      "text/plain": [
       "      chembl_id molecule_pref_name target_chembl_id  \\\n",
       "0     CHEMBL165        RESVERATROL        CHEMBL399   \n",
       "1   CHEMBL19224         PAPAVERINE     CHEMBL613633   \n",
       "2      CHEMBL50          QUERCETIN    CHEMBL2362975   \n",
       "3     CHEMBL107         COLCHICINE    CHEMBL3879801   \n",
       "4  CHEMBL441687       GLYCYRRHIZIN       CHEMBL3746   \n",
       "\n",
       "                         target_pref_name    target_organism   class  \\\n",
       "0                                    HeLa       Homo sapiens  active   \n",
       "1                                   Ileum  Rattus norvegicus  active   \n",
       "2                      No relevant target                NaN  active   \n",
       "3                      NON-PROTEIN TARGET                NaN  active   \n",
       "4  11-beta-hydroxysteroid dehydrogenase 2       Homo sapiens  active   \n",
       "\n",
       "       pIC50  \n",
       "0  10.647817  \n",
       "1  10.229148  \n",
       "2   9.958607  \n",
       "3   9.443697  \n",
       "4   9.397940  "
      ]
     },
     "execution_count": 15,
     "metadata": {},
     "output_type": "execute_result"
    }
   ],
   "source": [
    "df2.head()\n",
    "df_norm=df2.drop(columns=['standard_value','standard_value_norm'])\n",
    "df_norm.head()"
   ]
  },
  {
   "cell_type": "code",
   "execution_count": 16,
   "metadata": {},
   "outputs": [
    {
     "data": {
      "text/html": [
       "<div>\n",
       "<style scoped>\n",
       "    .dataframe tbody tr th:only-of-type {\n",
       "        vertical-align: middle;\n",
       "    }\n",
       "\n",
       "    .dataframe tbody tr th {\n",
       "        vertical-align: top;\n",
       "    }\n",
       "\n",
       "    .dataframe thead th {\n",
       "        text-align: right;\n",
       "    }\n",
       "</style>\n",
       "<table border=\"1\" class=\"dataframe\">\n",
       "  <thead>\n",
       "    <tr style=\"text-align: right;\">\n",
       "      <th></th>\n",
       "      <th>pubchem_id</th>\n",
       "      <th>molecular_weight</th>\n",
       "      <th>hbd_count</th>\n",
       "      <th>hba_count</th>\n",
       "      <th>xlogp</th>\n",
       "      <th>natural</th>\n",
       "      <th>chembl_id</th>\n",
       "    </tr>\n",
       "  </thead>\n",
       "  <tbody>\n",
       "    <tr>\n",
       "      <th>0</th>\n",
       "      <td>4</td>\n",
       "      <td>75.111</td>\n",
       "      <td>2</td>\n",
       "      <td>2</td>\n",
       "      <td>-1.0</td>\n",
       "      <td>1</td>\n",
       "      <td>CHEMBL326602</td>\n",
       "    </tr>\n",
       "    <tr>\n",
       "      <th>1</th>\n",
       "      <td>49</td>\n",
       "      <td>116.116</td>\n",
       "      <td>1</td>\n",
       "      <td>3</td>\n",
       "      <td>0.7</td>\n",
       "      <td>1</td>\n",
       "      <td>CHEMBL146554</td>\n",
       "    </tr>\n",
       "    <tr>\n",
       "      <th>2</th>\n",
       "      <td>58</td>\n",
       "      <td>102.089</td>\n",
       "      <td>1</td>\n",
       "      <td>3</td>\n",
       "      <td>0.1</td>\n",
       "      <td>1</td>\n",
       "      <td>CHEMBL171246</td>\n",
       "    </tr>\n",
       "    <tr>\n",
       "      <th>3</th>\n",
       "      <td>70</td>\n",
       "      <td>130.143</td>\n",
       "      <td>1</td>\n",
       "      <td>3</td>\n",
       "      <td>0.9</td>\n",
       "      <td>1</td>\n",
       "      <td>CHEMBL445647</td>\n",
       "    </tr>\n",
       "    <tr>\n",
       "      <th>4</th>\n",
       "      <td>72</td>\n",
       "      <td>154.121</td>\n",
       "      <td>3</td>\n",
       "      <td>4</td>\n",
       "      <td>1.1</td>\n",
       "      <td>1</td>\n",
       "      <td>CHEMBL37537</td>\n",
       "    </tr>\n",
       "  </tbody>\n",
       "</table>\n",
       "</div>"
      ],
      "text/plain": [
       "   pubchem_id  molecular_weight  hbd_count  hba_count  xlogp  natural  \\\n",
       "0           4            75.111          2          2   -1.0        1   \n",
       "1          49           116.116          1          3    0.7        1   \n",
       "2          58           102.089          1          3    0.1        1   \n",
       "3          70           130.143          1          3    0.9        1   \n",
       "4          72           154.121          3          4    1.1        1   \n",
       "\n",
       "      chembl_id  \n",
       "0  CHEMBL326602  \n",
       "1  CHEMBL146554  \n",
       "2  CHEMBL171246  \n",
       "3  CHEMBL445647  \n",
       "4   CHEMBL37537  "
      ]
     },
     "execution_count": 16,
     "metadata": {},
     "output_type": "execute_result"
    }
   ],
   "source": [
    "df_nat=pd.read_csv('df2.csv')     #1145 ids chembl_pubchem_decriptors\n",
    "df_nat.head()"
   ]
  },
  {
   "cell_type": "code",
   "execution_count": 17,
   "metadata": {},
   "outputs": [
    {
     "name": "stdout",
     "output_type": "stream",
     "text": [
      "<class 'pandas.core.frame.DataFrame'>\n",
      "RangeIndex: 1145 entries, 0 to 1144\n",
      "Data columns (total 7 columns):\n",
      " #   Column            Non-Null Count  Dtype  \n",
      "---  ------            --------------  -----  \n",
      " 0   pubchem_id        1145 non-null   int64  \n",
      " 1   molecular_weight  1145 non-null   float64\n",
      " 2   hbd_count         1145 non-null   int64  \n",
      " 3   hba_count         1145 non-null   int64  \n",
      " 4   xlogp             1126 non-null   float64\n",
      " 5   natural           1145 non-null   int64  \n",
      " 6   chembl_id         1145 non-null   object \n",
      "dtypes: float64(2), int64(4), object(1)\n",
      "memory usage: 62.7+ KB\n"
     ]
    }
   ],
   "source": [
    "df_nat.info()"
   ]
  },
  {
   "cell_type": "code",
   "execution_count": 18,
   "metadata": {},
   "outputs": [
    {
     "name": "stdout",
     "output_type": "stream",
     "text": [
      "<class 'pandas.core.frame.DataFrame'>\n",
      "Int64Index: 365 entries, 0 to 364\n",
      "Data columns (total 13 columns):\n",
      " #   Column              Non-Null Count  Dtype  \n",
      "---  ------              --------------  -----  \n",
      " 0   chembl_id           365 non-null    object \n",
      " 1   molecule_pref_name  306 non-null    object \n",
      " 2   target_chembl_id    365 non-null    object \n",
      " 3   target_pref_name    365 non-null    object \n",
      " 4   target_organism     293 non-null    object \n",
      " 5   class               365 non-null    object \n",
      " 6   pIC50               365 non-null    float64\n",
      " 7   pubchem_id          365 non-null    int64  \n",
      " 8   molecular_weight    365 non-null    float64\n",
      " 9   hbd_count           365 non-null    int64  \n",
      " 10  hba_count           365 non-null    int64  \n",
      " 11  xlogp               364 non-null    float64\n",
      " 12  natural             365 non-null    int64  \n",
      "dtypes: float64(3), int64(4), object(6)\n",
      "memory usage: 39.9+ KB\n"
     ]
    },
    {
     "data": {
      "text/html": [
       "<div>\n",
       "<style scoped>\n",
       "    .dataframe tbody tr th:only-of-type {\n",
       "        vertical-align: middle;\n",
       "    }\n",
       "\n",
       "    .dataframe tbody tr th {\n",
       "        vertical-align: top;\n",
       "    }\n",
       "\n",
       "    .dataframe thead th {\n",
       "        text-align: right;\n",
       "    }\n",
       "</style>\n",
       "<table border=\"1\" class=\"dataframe\">\n",
       "  <thead>\n",
       "    <tr style=\"text-align: right;\">\n",
       "      <th></th>\n",
       "      <th>chembl_id</th>\n",
       "      <th>molecule_pref_name</th>\n",
       "      <th>target_chembl_id</th>\n",
       "      <th>target_pref_name</th>\n",
       "      <th>target_organism</th>\n",
       "      <th>class</th>\n",
       "      <th>pIC50</th>\n",
       "      <th>pubchem_id</th>\n",
       "      <th>molecular_weight</th>\n",
       "      <th>hbd_count</th>\n",
       "      <th>hba_count</th>\n",
       "      <th>xlogp</th>\n",
       "      <th>natural</th>\n",
       "    </tr>\n",
       "  </thead>\n",
       "  <tbody>\n",
       "    <tr>\n",
       "      <th>0</th>\n",
       "      <td>CHEMBL165</td>\n",
       "      <td>RESVERATROL</td>\n",
       "      <td>CHEMBL399</td>\n",
       "      <td>HeLa</td>\n",
       "      <td>Homo sapiens</td>\n",
       "      <td>active</td>\n",
       "      <td>10.647817</td>\n",
       "      <td>445154</td>\n",
       "      <td>228.247</td>\n",
       "      <td>3</td>\n",
       "      <td>3</td>\n",
       "      <td>3.1</td>\n",
       "      <td>1</td>\n",
       "    </tr>\n",
       "    <tr>\n",
       "      <th>1</th>\n",
       "      <td>CHEMBL19224</td>\n",
       "      <td>PAPAVERINE</td>\n",
       "      <td>CHEMBL613633</td>\n",
       "      <td>Ileum</td>\n",
       "      <td>Rattus norvegicus</td>\n",
       "      <td>active</td>\n",
       "      <td>10.229148</td>\n",
       "      <td>4680</td>\n",
       "      <td>339.391</td>\n",
       "      <td>0</td>\n",
       "      <td>5</td>\n",
       "      <td>3.9</td>\n",
       "      <td>1</td>\n",
       "    </tr>\n",
       "    <tr>\n",
       "      <th>2</th>\n",
       "      <td>CHEMBL50</td>\n",
       "      <td>QUERCETIN</td>\n",
       "      <td>CHEMBL2362975</td>\n",
       "      <td>No relevant target</td>\n",
       "      <td>NaN</td>\n",
       "      <td>active</td>\n",
       "      <td>9.958607</td>\n",
       "      <td>5280343</td>\n",
       "      <td>302.238</td>\n",
       "      <td>5</td>\n",
       "      <td>7</td>\n",
       "      <td>1.5</td>\n",
       "      <td>1</td>\n",
       "    </tr>\n",
       "    <tr>\n",
       "      <th>3</th>\n",
       "      <td>CHEMBL107</td>\n",
       "      <td>COLCHICINE</td>\n",
       "      <td>CHEMBL3879801</td>\n",
       "      <td>NON-PROTEIN TARGET</td>\n",
       "      <td>NaN</td>\n",
       "      <td>active</td>\n",
       "      <td>9.443697</td>\n",
       "      <td>6167</td>\n",
       "      <td>399.443</td>\n",
       "      <td>1</td>\n",
       "      <td>6</td>\n",
       "      <td>1.0</td>\n",
       "      <td>1</td>\n",
       "    </tr>\n",
       "    <tr>\n",
       "      <th>4</th>\n",
       "      <td>CHEMBL441687</td>\n",
       "      <td>GLYCYRRHIZIN</td>\n",
       "      <td>CHEMBL3746</td>\n",
       "      <td>11-beta-hydroxysteroid dehydrogenase 2</td>\n",
       "      <td>Homo sapiens</td>\n",
       "      <td>active</td>\n",
       "      <td>9.397940</td>\n",
       "      <td>14982</td>\n",
       "      <td>822.942</td>\n",
       "      <td>8</td>\n",
       "      <td>16</td>\n",
       "      <td>3.7</td>\n",
       "      <td>1</td>\n",
       "    </tr>\n",
       "  </tbody>\n",
       "</table>\n",
       "</div>"
      ],
      "text/plain": [
       "      chembl_id molecule_pref_name target_chembl_id  \\\n",
       "0     CHEMBL165        RESVERATROL        CHEMBL399   \n",
       "1   CHEMBL19224         PAPAVERINE     CHEMBL613633   \n",
       "2      CHEMBL50          QUERCETIN    CHEMBL2362975   \n",
       "3     CHEMBL107         COLCHICINE    CHEMBL3879801   \n",
       "4  CHEMBL441687       GLYCYRRHIZIN       CHEMBL3746   \n",
       "\n",
       "                         target_pref_name    target_organism   class  \\\n",
       "0                                    HeLa       Homo sapiens  active   \n",
       "1                                   Ileum  Rattus norvegicus  active   \n",
       "2                      No relevant target                NaN  active   \n",
       "3                      NON-PROTEIN TARGET                NaN  active   \n",
       "4  11-beta-hydroxysteroid dehydrogenase 2       Homo sapiens  active   \n",
       "\n",
       "       pIC50  pubchem_id  molecular_weight  hbd_count  hba_count  xlogp  \\\n",
       "0  10.647817      445154           228.247          3          3    3.1   \n",
       "1  10.229148        4680           339.391          0          5    3.9   \n",
       "2   9.958607     5280343           302.238          5          7    1.5   \n",
       "3   9.443697        6167           399.443          1          6    1.0   \n",
       "4   9.397940       14982           822.942          8         16    3.7   \n",
       "\n",
       "   natural  \n",
       "0        1  \n",
       "1        1  \n",
       "2        1  \n",
       "3        1  \n",
       "4        1  "
      ]
     },
     "execution_count": 18,
     "metadata": {},
     "output_type": "execute_result"
    }
   ],
   "source": [
    "fdb_bio=df_norm.merge(df_nat,on=['chembl_id'], how=\"inner\")\n",
    "fdb_bio.info()\n",
    "fdb_bio.head()"
   ]
  },
  {
   "cell_type": "code",
   "execution_count": 19,
   "metadata": {},
   "outputs": [
    {
     "data": {
      "text/html": [
       "<div>\n",
       "<style scoped>\n",
       "    .dataframe tbody tr th:only-of-type {\n",
       "        vertical-align: middle;\n",
       "    }\n",
       "\n",
       "    .dataframe tbody tr th {\n",
       "        vertical-align: top;\n",
       "    }\n",
       "\n",
       "    .dataframe thead th {\n",
       "        text-align: right;\n",
       "    }\n",
       "</style>\n",
       "<table border=\"1\" class=\"dataframe\">\n",
       "  <thead>\n",
       "    <tr style=\"text-align: right;\">\n",
       "      <th></th>\n",
       "      <th>chembl_id</th>\n",
       "      <th>molecule_pref_name</th>\n",
       "      <th>target_chembl_id</th>\n",
       "      <th>target_pref_name</th>\n",
       "      <th>class</th>\n",
       "      <th>pIC50</th>\n",
       "      <th>pubchem_id</th>\n",
       "      <th>molecular_weight</th>\n",
       "      <th>hbd_count</th>\n",
       "      <th>hba_count</th>\n",
       "      <th>xlogp</th>\n",
       "      <th>natural</th>\n",
       "    </tr>\n",
       "  </thead>\n",
       "  <tbody>\n",
       "    <tr>\n",
       "      <th>0</th>\n",
       "      <td>CHEMBL165</td>\n",
       "      <td>RESVERATROL</td>\n",
       "      <td>CHEMBL399</td>\n",
       "      <td>HeLa</td>\n",
       "      <td>active</td>\n",
       "      <td>10.647817</td>\n",
       "      <td>445154</td>\n",
       "      <td>228.247</td>\n",
       "      <td>3</td>\n",
       "      <td>3</td>\n",
       "      <td>3.1</td>\n",
       "      <td>1</td>\n",
       "    </tr>\n",
       "    <tr>\n",
       "      <th>1</th>\n",
       "      <td>CHEMBL19224</td>\n",
       "      <td>PAPAVERINE</td>\n",
       "      <td>CHEMBL613633</td>\n",
       "      <td>Ileum</td>\n",
       "      <td>active</td>\n",
       "      <td>10.229148</td>\n",
       "      <td>4680</td>\n",
       "      <td>339.391</td>\n",
       "      <td>0</td>\n",
       "      <td>5</td>\n",
       "      <td>3.9</td>\n",
       "      <td>1</td>\n",
       "    </tr>\n",
       "    <tr>\n",
       "      <th>2</th>\n",
       "      <td>CHEMBL50</td>\n",
       "      <td>QUERCETIN</td>\n",
       "      <td>CHEMBL2362975</td>\n",
       "      <td>No relevant target</td>\n",
       "      <td>active</td>\n",
       "      <td>9.958607</td>\n",
       "      <td>5280343</td>\n",
       "      <td>302.238</td>\n",
       "      <td>5</td>\n",
       "      <td>7</td>\n",
       "      <td>1.5</td>\n",
       "      <td>1</td>\n",
       "    </tr>\n",
       "    <tr>\n",
       "      <th>3</th>\n",
       "      <td>CHEMBL107</td>\n",
       "      <td>COLCHICINE</td>\n",
       "      <td>CHEMBL3879801</td>\n",
       "      <td>NON-PROTEIN TARGET</td>\n",
       "      <td>active</td>\n",
       "      <td>9.443697</td>\n",
       "      <td>6167</td>\n",
       "      <td>399.443</td>\n",
       "      <td>1</td>\n",
       "      <td>6</td>\n",
       "      <td>1.0</td>\n",
       "      <td>1</td>\n",
       "    </tr>\n",
       "    <tr>\n",
       "      <th>4</th>\n",
       "      <td>CHEMBL441687</td>\n",
       "      <td>GLYCYRRHIZIN</td>\n",
       "      <td>CHEMBL3746</td>\n",
       "      <td>11-beta-hydroxysteroid dehydrogenase 2</td>\n",
       "      <td>active</td>\n",
       "      <td>9.397940</td>\n",
       "      <td>14982</td>\n",
       "      <td>822.942</td>\n",
       "      <td>8</td>\n",
       "      <td>16</td>\n",
       "      <td>3.7</td>\n",
       "      <td>1</td>\n",
       "    </tr>\n",
       "  </tbody>\n",
       "</table>\n",
       "</div>"
      ],
      "text/plain": [
       "      chembl_id molecule_pref_name target_chembl_id  \\\n",
       "0     CHEMBL165        RESVERATROL        CHEMBL399   \n",
       "1   CHEMBL19224         PAPAVERINE     CHEMBL613633   \n",
       "2      CHEMBL50          QUERCETIN    CHEMBL2362975   \n",
       "3     CHEMBL107         COLCHICINE    CHEMBL3879801   \n",
       "4  CHEMBL441687       GLYCYRRHIZIN       CHEMBL3746   \n",
       "\n",
       "                         target_pref_name   class      pIC50  pubchem_id  \\\n",
       "0                                    HeLa  active  10.647817      445154   \n",
       "1                                   Ileum  active  10.229148        4680   \n",
       "2                      No relevant target  active   9.958607     5280343   \n",
       "3                      NON-PROTEIN TARGET  active   9.443697        6167   \n",
       "4  11-beta-hydroxysteroid dehydrogenase 2  active   9.397940       14982   \n",
       "\n",
       "   molecular_weight  hbd_count  hba_count  xlogp  natural  \n",
       "0           228.247          3          3    3.1        1  \n",
       "1           339.391          0          5    3.9        1  \n",
       "2           302.238          5          7    1.5        1  \n",
       "3           399.443          1          6    1.0        1  \n",
       "4           822.942          8         16    3.7        1  "
      ]
     },
     "execution_count": 19,
     "metadata": {},
     "output_type": "execute_result"
    }
   ],
   "source": [
    "df6=fdb_bio.drop(['target_organism'], axis=1)\n",
    "df6.head()"
   ]
  },
  {
   "cell_type": "code",
   "execution_count": 12,
   "metadata": {},
   "outputs": [],
   "source": [
    "fdb_bio.to_csv('fdb_classification_bioactivity_pIC50.csv', index=False)"
   ]
  },
  {
   "cell_type": "markdown",
   "metadata": {},
   "source": [
    "<font size=4> Intermediate Class was not considered for <b>Exploratory Data Analysis</b></font>"
   ]
  },
  {
   "cell_type": "code",
   "execution_count": 20,
   "metadata": {},
   "outputs": [
    {
     "name": "stdout",
     "output_type": "stream",
     "text": [
      "<class 'pandas.core.frame.DataFrame'>\n",
      "Int64Index: 297 entries, 0 to 364\n",
      "Data columns (total 13 columns):\n",
      " #   Column              Non-Null Count  Dtype  \n",
      "---  ------              --------------  -----  \n",
      " 0   chembl_id           297 non-null    object \n",
      " 1   molecule_pref_name  244 non-null    object \n",
      " 2   target_chembl_id    297 non-null    object \n",
      " 3   target_pref_name    297 non-null    object \n",
      " 4   target_organism     243 non-null    object \n",
      " 5   class               297 non-null    object \n",
      " 6   pIC50               297 non-null    float64\n",
      " 7   pubchem_id          297 non-null    int64  \n",
      " 8   molecular_weight    297 non-null    float64\n",
      " 9   hbd_count           297 non-null    int64  \n",
      " 10  hba_count           297 non-null    int64  \n",
      " 11  xlogp               296 non-null    float64\n",
      " 12  natural             297 non-null    int64  \n",
      "dtypes: float64(3), int64(4), object(6)\n",
      "memory usage: 32.5+ KB\n"
     ]
    }
   ],
   "source": [
    "# removing the intermediate class\n",
    "df_2class = fdb_bio[fdb_bio['class'] != 'intermediate']\n",
    "df_2class.info()"
   ]
  },
  {
   "cell_type": "code",
   "execution_count": 21,
   "metadata": {},
   "outputs": [],
   "source": [
    "df_2class.to_csv('fdb_classification_bioactivity_pIC50_onlyactive_inactive.csv', index=False)"
   ]
  },
  {
   "cell_type": "markdown",
   "metadata": {},
   "source": [
    "## **Exploratory Data Analysis (Chemical Space Analysis) via Lipinski descriptors**\n",
    "## **Calculate Lipinski descriptors**\n",
    "Christopher Lipinski, a scientist at Pfizer, came up with a set of rule-of-thumb for evaluating the **druglikeness** of compounds. Such druglikeness is based on the Absorption, Distribution, Metabolism and Excretion (ADME) that is also known as the pharmacokinetic profile. Lipinski analyzed all orally active FDA-approved drugs in the formulation of what is to be known as the **Rule-of-Five** or **Lipinski's Rule**.\n",
    "\n",
    "The Lipinski's Rule stated the following:\n",
    "* Molecular weight < 500 Dalton\n",
    "* Octanol-water partition coefficient (LogP) < 5\n",
    "* Hydrogen bond donors < 5\n",
    "* Hydrogen bond acceptors < 10 "
   ]
  },
  {
   "cell_type": "code",
   "execution_count": 3,
   "metadata": {},
   "outputs": [],
   "source": [
    "import pandas as pd\n",
    "import seaborn as sns\n",
    "#sns.set_theme(style=\"darkgrid\")\n",
    "sns.set(style='ticks')\n",
    "import matplotlib.pyplot as plt\n",
    "df_fla=pd.read_csv(\"fdb_molecules_22Nov.csv\")"
   ]
  },
  {
   "cell_type": "markdown",
   "metadata": {},
   "source": [
    "## **Frequency plot of the Synthetic and Natural Molecules in Flavor Db**"
   ]
  },
  {
   "cell_type": "code",
   "execution_count": 4,
   "metadata": {},
   "outputs": [
    {
     "data": {
      "image/png": "[encoded data removed]",
      "text/plain": [
       "<Figure size 504x504 with 1 Axes>"
      ]
     },
     "metadata": {},
     "output_type": "display_data"
    }
   ],
   "source": [
    "plt.figure(figsize=(7,7))\n",
    "\n",
    "sns.countplot(x='natural', data=df_fla,palette=['gold','cornflowerblue'])\n",
    "\n",
    "plt.xlabel('Type of Flavor molecule', fontsize=14, fontweight='bold')\n",
    "plt.ylabel('Frequency', fontsize=14, fontweight='bold')\n",
    "\n",
    "plt.savefig('plot_synthtic_nativecount_class.png')"
   ]
  },
  {
   "cell_type": "markdown",
   "metadata": {},
   "source": [
    "## **Frequency plot of the 2 bioactivity classes**"
   ]
  },
  {
   "cell_type": "code",
   "execution_count": 141,
   "metadata": {},
   "outputs": [
    {
     "data": {
      "image/png": "[encoded data removed]",
      "text/plain": [
       "<Figure size 504x504 with 1 Axes>"
      ]
     },
     "metadata": {},
     "output_type": "display_data"
    }
   ],
   "source": [
    "plt.figure(figsize=(7,7))\n",
    "\n",
    "sns.countplot(x='class', data=df_2class,palette=['salmon','cyan'])\n",
    "\n",
    "plt.xlabel('Bioactivity class', fontsize=14, fontweight='bold')\n",
    "plt.ylabel('Frequency', fontsize=14, fontweight='bold')\n",
    "\n",
    "plt.savefig('plot_bioactivity_class.png')"
   ]
  },
  {
   "cell_type": "markdown",
   "metadata": {},
   "source": [
    "### **Scatter plot of MW versus LogP**\n",
    "\n",
    "It can be seen that the 2 bioactivity classes are spanning similar chemical spaces as evident by the scatter plot of MW vs LogP."
   ]
  },
  {
   "cell_type": "code",
   "execution_count": 122,
   "metadata": {},
   "outputs": [
    {
     "data": {
      "image/png": "[encoded data removed]",
      "text/plain": [
       "<Figure size 720x720 with 1 Axes>"
      ]
     },
     "metadata": {},
     "output_type": "display_data"
    }
   ],
   "source": [
    "plt.figure(figsize=(10,10))\n",
    "\n",
    "sns.scatterplot(x='molecular_weight', y='xlogp', data=df_2class, hue='class',palette=['salmon','cyan'], size='pIC50', alpha=0.8)\n",
    "\n",
    "plt.xlabel('MW', fontsize=14, fontweight='bold')\n",
    "plt.ylabel('LogP', fontsize=14, fontweight='bold')\n",
    "plt.legend(bbox_to_anchor=(1.05, 1), loc=2, borderaxespad=0)\n",
    "plt.savefig('plot_MW_vs_LogP.png')"
   ]
  },
  {
   "cell_type": "markdown",
   "metadata": {},
   "source": [
    "### **Box plots**"
   ]
  },
  {
   "cell_type": "markdown",
   "metadata": {},
   "source": [
    "#### **pIC50 value**"
   ]
  },
  {
   "cell_type": "code",
   "execution_count": 140,
   "metadata": {},
   "outputs": [
    {
     "data": {
      "image/png": "[encoded data removed]",
      "text/plain": [
       "<Figure size 504x504 with 1 Axes>"
      ]
     },
     "metadata": {},
     "output_type": "display_data"
    }
   ],
   "source": [
    "plt.figure(figsize=(7, 7))\n",
    "\n",
    "sns.boxplot(x = 'class', y = 'pIC50', data = df_2class,palette=['salmon','cyan'])\n",
    "\n",
    "plt.xlabel('Bioactivity class', fontsize=14, fontweight='bold')\n",
    "plt.ylabel('pIC50 value', fontsize=14, fontweight='bold')\n",
    "\n",
    "plt.savefig('plot_ic50.png') #threshold >6 active, <6 inactive"
   ]
  },
  {
   "cell_type": "code",
   "execution_count": 124,
   "metadata": {},
   "outputs": [],
   "source": [
    "def mannwhitney(descriptor, verbose=False):\n",
    "  # https://machinelearningmastery.com/nonparametric-statistical-significance-tests-in-python/\n",
    "    from numpy.random import seed\n",
    "    from numpy.random import randn\n",
    "    from scipy.stats import mannwhitneyu\n",
    "# actives and inactives\n",
    "    selection = [descriptor, 'class']\n",
    "    df = df_2class[selection]\n",
    "    active = df[df['class'] == 'active']\n",
    "    active = active[descriptor]\n",
    "\n",
    "    selection = [descriptor, 'class']\n",
    "    df = df_2class[selection]\n",
    "    inactive = df[df['class'] == 'inactive']\n",
    "    inactive = inactive[descriptor]\n",
    "   # compare samples\n",
    "    stat, p = mannwhitneyu(active, inactive)\n",
    "      #print('Statistics=%.3f, p=%.3f' % (stat, p))\n",
    "      # interpret\n",
    "    alpha = 0.05\n",
    "    if p > alpha:\n",
    "        interpretation = 'Same distribution (fail to reject H0)'\n",
    "    else:\n",
    "        interpretation = 'Different distribution (reject H0)'\n",
    "\n",
    "    results = pd.DataFrame({'Descriptor':descriptor,\n",
    "                          'Statistics':stat,\n",
    "                          'p':p,\n",
    "                          'alpha':alpha,\n",
    "                          'Interpretation':interpretation}, index=[0])\n",
    "    filename = 'mannwhitneyu_' + descriptor + '.csv'\n",
    "    results.to_csv(filename)\n",
    "\n",
    "    return results"
   ]
  },
  {
   "cell_type": "code",
   "execution_count": 125,
   "metadata": {},
   "outputs": [
    {
     "data": {
      "text/html": [
       "<div>\n",
       "<style scoped>\n",
       "    .dataframe tbody tr th:only-of-type {\n",
       "        vertical-align: middle;\n",
       "    }\n",
       "\n",
       "    .dataframe tbody tr th {\n",
       "        vertical-align: top;\n",
       "    }\n",
       "\n",
       "    .dataframe thead th {\n",
       "        text-align: right;\n",
       "    }\n",
       "</style>\n",
       "<table border=\"1\" class=\"dataframe\">\n",
       "  <thead>\n",
       "    <tr style=\"text-align: right;\">\n",
       "      <th></th>\n",
       "      <th>Descriptor</th>\n",
       "      <th>Statistics</th>\n",
       "      <th>p</th>\n",
       "      <th>alpha</th>\n",
       "      <th>Interpretation</th>\n",
       "    </tr>\n",
       "  </thead>\n",
       "  <tbody>\n",
       "    <tr>\n",
       "      <th>0</th>\n",
       "      <td>pIC50</td>\n",
       "      <td>0.0</td>\n",
       "      <td>6.087553e-42</td>\n",
       "      <td>0.05</td>\n",
       "      <td>Different distribution (reject H0)</td>\n",
       "    </tr>\n",
       "  </tbody>\n",
       "</table>\n",
       "</div>"
      ],
      "text/plain": [
       "  Descriptor  Statistics             p  alpha  \\\n",
       "0      pIC50         0.0  6.087553e-42   0.05   \n",
       "\n",
       "                       Interpretation  \n",
       "0  Different distribution (reject H0)  "
      ]
     },
     "execution_count": 125,
     "metadata": {},
     "output_type": "execute_result"
    }
   ],
   "source": [
    "mannwhitney('pIC50')\n",
    "# compare active to inactive calss to see if there is any statistical difference between active or nactive class or not\n",
    "# p value < 0.05 , rejecting null hypothesis and thus we can say that active and inactive classes have different distribution"
   ]
  },
  {
   "cell_type": "code",
   "execution_count": 126,
   "metadata": {},
   "outputs": [
    {
     "data": {
      "image/png": "[encoded data removed]",
      "text/plain": [
       "<Figure size 504x504 with 1 Axes>"
      ]
     },
     "metadata": {},
     "output_type": "display_data"
    }
   ],
   "source": [
    "plt.figure(figsize=(7, 7))\n",
    "\n",
    "sns.boxplot(x = 'class', y = 'molecular_weight', data = df_2class,palette=['salmon','cyan'])\n",
    "\n",
    "plt.xlabel('Bioactivity class', fontsize=14, fontweight='bold')\n",
    "plt.ylabel('MW', fontsize=14, fontweight='bold')\n",
    "\n",
    "plt.savefig('plot_MW.png')"
   ]
  },
  {
   "cell_type": "code",
   "execution_count": 127,
   "metadata": {},
   "outputs": [
    {
     "data": {
      "text/html": [
       "<div>\n",
       "<style scoped>\n",
       "    .dataframe tbody tr th:only-of-type {\n",
       "        vertical-align: middle;\n",
       "    }\n",
       "\n",
       "    .dataframe tbody tr th {\n",
       "        vertical-align: top;\n",
       "    }\n",
       "\n",
       "    .dataframe thead th {\n",
       "        text-align: right;\n",
       "    }\n",
       "</style>\n",
       "<table border=\"1\" class=\"dataframe\">\n",
       "  <thead>\n",
       "    <tr style=\"text-align: right;\">\n",
       "      <th></th>\n",
       "      <th>Descriptor</th>\n",
       "      <th>Statistics</th>\n",
       "      <th>p</th>\n",
       "      <th>alpha</th>\n",
       "      <th>Interpretation</th>\n",
       "    </tr>\n",
       "  </thead>\n",
       "  <tbody>\n",
       "    <tr>\n",
       "      <th>0</th>\n",
       "      <td>molecular_weight</td>\n",
       "      <td>5254.5</td>\n",
       "      <td>6.436918e-09</td>\n",
       "      <td>0.05</td>\n",
       "      <td>Different distribution (reject H0)</td>\n",
       "    </tr>\n",
       "  </tbody>\n",
       "</table>\n",
       "</div>"
      ],
      "text/plain": [
       "         Descriptor  Statistics             p  alpha  \\\n",
       "0  molecular_weight      5254.5  6.436918e-09   0.05   \n",
       "\n",
       "                       Interpretation  \n",
       "0  Different distribution (reject H0)  "
      ]
     },
     "execution_count": 127,
     "metadata": {},
     "output_type": "execute_result"
    }
   ],
   "source": [
    "mannwhitney('molecular_weight')"
   ]
  },
  {
   "cell_type": "code",
   "execution_count": 128,
   "metadata": {},
   "outputs": [
    {
     "data": {
      "image/png": "[encoded data removed]",
      "text/plain": [
       "<Figure size 504x504 with 1 Axes>"
      ]
     },
     "metadata": {},
     "output_type": "display_data"
    }
   ],
   "source": [
    "plt.figure(figsize=(7, 7))\n",
    "\n",
    "sns.boxplot(x = 'class', y = 'xlogp', data = df_2class,palette=['salmon','cyan'])\n",
    "\n",
    "plt.xlabel('Bioactivity class', fontsize=14, fontweight='bold')\n",
    "plt.ylabel('LogP', fontsize=14, fontweight='bold')\n",
    "\n",
    "plt.savefig('plot_LogP.png')"
   ]
  },
  {
   "cell_type": "code",
   "execution_count": 129,
   "metadata": {},
   "outputs": [
    {
     "data": {
      "text/html": [
       "<div>\n",
       "<style scoped>\n",
       "    .dataframe tbody tr th:only-of-type {\n",
       "        vertical-align: middle;\n",
       "    }\n",
       "\n",
       "    .dataframe tbody tr th {\n",
       "        vertical-align: top;\n",
       "    }\n",
       "\n",
       "    .dataframe thead th {\n",
       "        text-align: right;\n",
       "    }\n",
       "</style>\n",
       "<table border=\"1\" class=\"dataframe\">\n",
       "  <thead>\n",
       "    <tr style=\"text-align: right;\">\n",
       "      <th></th>\n",
       "      <th>Descriptor</th>\n",
       "      <th>Statistics</th>\n",
       "      <th>p</th>\n",
       "      <th>alpha</th>\n",
       "      <th>Interpretation</th>\n",
       "    </tr>\n",
       "  </thead>\n",
       "  <tbody>\n",
       "    <tr>\n",
       "      <th>0</th>\n",
       "      <td>xlogp</td>\n",
       "      <td>8217.5</td>\n",
       "      <td>0.10134</td>\n",
       "      <td>0.05</td>\n",
       "      <td>Same distribution (fail to reject H0)</td>\n",
       "    </tr>\n",
       "  </tbody>\n",
       "</table>\n",
       "</div>"
      ],
      "text/plain": [
       "  Descriptor  Statistics        p  alpha  \\\n",
       "0      xlogp      8217.5  0.10134   0.05   \n",
       "\n",
       "                          Interpretation  \n",
       "0  Same distribution (fail to reject H0)  "
      ]
     },
     "execution_count": 129,
     "metadata": {},
     "output_type": "execute_result"
    }
   ],
   "source": [
    "mannwhitney('xlogp')"
   ]
  },
  {
   "cell_type": "code",
   "execution_count": 130,
   "metadata": {},
   "outputs": [
    {
     "data": {
      "text/html": [
       "<div>\n",
       "<style scoped>\n",
       "    .dataframe tbody tr th:only-of-type {\n",
       "        vertical-align: middle;\n",
       "    }\n",
       "\n",
       "    .dataframe tbody tr th {\n",
       "        vertical-align: top;\n",
       "    }\n",
       "\n",
       "    .dataframe thead th {\n",
       "        text-align: right;\n",
       "    }\n",
       "</style>\n",
       "<table border=\"1\" class=\"dataframe\">\n",
       "  <thead>\n",
       "    <tr style=\"text-align: right;\">\n",
       "      <th></th>\n",
       "      <th>chembl_id</th>\n",
       "      <th>molecule_pref_name</th>\n",
       "      <th>target_chembl_id</th>\n",
       "      <th>target_pref_name</th>\n",
       "      <th>target_organism</th>\n",
       "      <th>class</th>\n",
       "      <th>pIC50</th>\n",
       "      <th>pubchem_id</th>\n",
       "      <th>molecular_weight</th>\n",
       "      <th>hbd_count</th>\n",
       "      <th>hba_count</th>\n",
       "      <th>xlogp</th>\n",
       "      <th>natural</th>\n",
       "    </tr>\n",
       "  </thead>\n",
       "  <tbody>\n",
       "    <tr>\n",
       "      <th>0</th>\n",
       "      <td>CHEMBL165</td>\n",
       "      <td>RESVERATROL</td>\n",
       "      <td>CHEMBL399</td>\n",
       "      <td>HeLa</td>\n",
       "      <td>Homo sapiens</td>\n",
       "      <td>active</td>\n",
       "      <td>10.647817</td>\n",
       "      <td>445154</td>\n",
       "      <td>228.247</td>\n",
       "      <td>3</td>\n",
       "      <td>3</td>\n",
       "      <td>3.1</td>\n",
       "      <td>1</td>\n",
       "    </tr>\n",
       "    <tr>\n",
       "      <th>1</th>\n",
       "      <td>CHEMBL19224</td>\n",
       "      <td>PAPAVERINE</td>\n",
       "      <td>CHEMBL613633</td>\n",
       "      <td>Ileum</td>\n",
       "      <td>Rattus norvegicus</td>\n",
       "      <td>active</td>\n",
       "      <td>10.229148</td>\n",
       "      <td>4680</td>\n",
       "      <td>339.391</td>\n",
       "      <td>0</td>\n",
       "      <td>5</td>\n",
       "      <td>3.9</td>\n",
       "      <td>1</td>\n",
       "    </tr>\n",
       "    <tr>\n",
       "      <th>2</th>\n",
       "      <td>CHEMBL50</td>\n",
       "      <td>QUERCETIN</td>\n",
       "      <td>CHEMBL2362975</td>\n",
       "      <td>No relevant target</td>\n",
       "      <td>NaN</td>\n",
       "      <td>active</td>\n",
       "      <td>9.958607</td>\n",
       "      <td>5280343</td>\n",
       "      <td>302.238</td>\n",
       "      <td>5</td>\n",
       "      <td>7</td>\n",
       "      <td>1.5</td>\n",
       "      <td>1</td>\n",
       "    </tr>\n",
       "    <tr>\n",
       "      <th>3</th>\n",
       "      <td>CHEMBL107</td>\n",
       "      <td>COLCHICINE</td>\n",
       "      <td>CHEMBL3879801</td>\n",
       "      <td>NON-PROTEIN TARGET</td>\n",
       "      <td>NaN</td>\n",
       "      <td>active</td>\n",
       "      <td>9.443697</td>\n",
       "      <td>6167</td>\n",
       "      <td>399.443</td>\n",
       "      <td>1</td>\n",
       "      <td>6</td>\n",
       "      <td>1.0</td>\n",
       "      <td>1</td>\n",
       "    </tr>\n",
       "    <tr>\n",
       "      <th>4</th>\n",
       "      <td>CHEMBL441687</td>\n",
       "      <td>GLYCYRRHIZIN</td>\n",
       "      <td>CHEMBL3746</td>\n",
       "      <td>11-beta-hydroxysteroid dehydrogenase 2</td>\n",
       "      <td>Homo sapiens</td>\n",
       "      <td>active</td>\n",
       "      <td>9.397940</td>\n",
       "      <td>14982</td>\n",
       "      <td>822.942</td>\n",
       "      <td>8</td>\n",
       "      <td>16</td>\n",
       "      <td>3.7</td>\n",
       "      <td>1</td>\n",
       "    </tr>\n",
       "  </tbody>\n",
       "</table>\n",
       "</div>"
      ],
      "text/plain": [
       "      chembl_id molecule_pref_name target_chembl_id  \\\n",
       "0     CHEMBL165        RESVERATROL        CHEMBL399   \n",
       "1   CHEMBL19224         PAPAVERINE     CHEMBL613633   \n",
       "2      CHEMBL50          QUERCETIN    CHEMBL2362975   \n",
       "3     CHEMBL107         COLCHICINE    CHEMBL3879801   \n",
       "4  CHEMBL441687       GLYCYRRHIZIN       CHEMBL3746   \n",
       "\n",
       "                         target_pref_name    target_organism   class  \\\n",
       "0                                    HeLa       Homo sapiens  active   \n",
       "1                                   Ileum  Rattus norvegicus  active   \n",
       "2                      No relevant target                NaN  active   \n",
       "3                      NON-PROTEIN TARGET                NaN  active   \n",
       "4  11-beta-hydroxysteroid dehydrogenase 2       Homo sapiens  active   \n",
       "\n",
       "       pIC50  pubchem_id  molecular_weight  hbd_count  hba_count  xlogp  \\\n",
       "0  10.647817      445154           228.247          3          3    3.1   \n",
       "1  10.229148        4680           339.391          0          5    3.9   \n",
       "2   9.958607     5280343           302.238          5          7    1.5   \n",
       "3   9.443697        6167           399.443          1          6    1.0   \n",
       "4   9.397940       14982           822.942          8         16    3.7   \n",
       "\n",
       "   natural  \n",
       "0        1  \n",
       "1        1  \n",
       "2        1  \n",
       "3        1  \n",
       "4        1  "
      ]
     },
     "execution_count": 130,
     "metadata": {},
     "output_type": "execute_result"
    }
   ],
   "source": [
    "df_2class.head()"
   ]
  },
  {
   "cell_type": "code",
   "execution_count": 131,
   "metadata": {},
   "outputs": [
    {
     "data": {
      "image/png": "[encoded data removed]",
      "text/plain": [
       "<Figure size 504x504 with 1 Axes>"
      ]
     },
     "metadata": {},
     "output_type": "display_data"
    }
   ],
   "source": [
    "plt.figure(figsize=(7,7))\n",
    "\n",
    "sns.boxplot(x = 'class', y = 'hbd_count', data = df_2class,palette=['salmon','cyan'])\n",
    "\n",
    "plt.xlabel('Bioactivity class', fontsize=14, fontweight='bold')\n",
    "plt.ylabel('NumHDonors', fontsize=14, fontweight='bold')\n",
    "\n",
    "plt.savefig('plot_NumHDonors.png')"
   ]
  },
  {
   "cell_type": "code",
   "execution_count": 132,
   "metadata": {},
   "outputs": [
    {
     "data": {
      "text/html": [
       "<div>\n",
       "<style scoped>\n",
       "    .dataframe tbody tr th:only-of-type {\n",
       "        vertical-align: middle;\n",
       "    }\n",
       "\n",
       "    .dataframe tbody tr th {\n",
       "        vertical-align: top;\n",
       "    }\n",
       "\n",
       "    .dataframe thead th {\n",
       "        text-align: right;\n",
       "    }\n",
       "</style>\n",
       "<table border=\"1\" class=\"dataframe\">\n",
       "  <thead>\n",
       "    <tr style=\"text-align: right;\">\n",
       "      <th></th>\n",
       "      <th>Descriptor</th>\n",
       "      <th>Statistics</th>\n",
       "      <th>p</th>\n",
       "      <th>alpha</th>\n",
       "      <th>Interpretation</th>\n",
       "    </tr>\n",
       "  </thead>\n",
       "  <tbody>\n",
       "    <tr>\n",
       "      <th>0</th>\n",
       "      <td>hbd_count</td>\n",
       "      <td>5945.5</td>\n",
       "      <td>6.722676e-07</td>\n",
       "      <td>0.05</td>\n",
       "      <td>Different distribution (reject H0)</td>\n",
       "    </tr>\n",
       "  </tbody>\n",
       "</table>\n",
       "</div>"
      ],
      "text/plain": [
       "  Descriptor  Statistics             p  alpha  \\\n",
       "0  hbd_count      5945.5  6.722676e-07   0.05   \n",
       "\n",
       "                       Interpretation  \n",
       "0  Different distribution (reject H0)  "
      ]
     },
     "execution_count": 132,
     "metadata": {},
     "output_type": "execute_result"
    }
   ],
   "source": [
    "mannwhitney('hbd_count')"
   ]
  },
  {
   "cell_type": "code",
   "execution_count": 133,
   "metadata": {},
   "outputs": [
    {
     "data": {
      "image/png": "[encoded data removed]",
      "text/plain": [
       "<Figure size 504x504 with 1 Axes>"
      ]
     },
     "metadata": {},
     "output_type": "display_data"
    }
   ],
   "source": [
    "plt.figure(figsize=(7,7))\n",
    "\n",
    "sns.boxplot(x = 'class', y = 'hba_count', data = df_2class,palette=['salmon','cyan'])\n",
    "\n",
    "plt.xlabel('Bioactivity class', fontsize=14, fontweight='bold')\n",
    "plt.ylabel('NumHAcceptors', fontsize=14, fontweight='bold')\n",
    "plt.savefig('plot_NumHAcceptors.png')"
   ]
  },
  {
   "cell_type": "code",
   "execution_count": 134,
   "metadata": {},
   "outputs": [
    {
     "data": {
      "text/html": [
       "<div>\n",
       "<style scoped>\n",
       "    .dataframe tbody tr th:only-of-type {\n",
       "        vertical-align: middle;\n",
       "    }\n",
       "\n",
       "    .dataframe tbody tr th {\n",
       "        vertical-align: top;\n",
       "    }\n",
       "\n",
       "    .dataframe thead th {\n",
       "        text-align: right;\n",
       "    }\n",
       "</style>\n",
       "<table border=\"1\" class=\"dataframe\">\n",
       "  <thead>\n",
       "    <tr style=\"text-align: right;\">\n",
       "      <th></th>\n",
       "      <th>Descriptor</th>\n",
       "      <th>Statistics</th>\n",
       "      <th>p</th>\n",
       "      <th>alpha</th>\n",
       "      <th>Interpretation</th>\n",
       "    </tr>\n",
       "  </thead>\n",
       "  <tbody>\n",
       "    <tr>\n",
       "      <th>0</th>\n",
       "      <td>hba_count</td>\n",
       "      <td>5616.0</td>\n",
       "      <td>7.643777e-08</td>\n",
       "      <td>0.05</td>\n",
       "      <td>Different distribution (reject H0)</td>\n",
       "    </tr>\n",
       "  </tbody>\n",
       "</table>\n",
       "</div>"
      ],
      "text/plain": [
       "  Descriptor  Statistics             p  alpha  \\\n",
       "0  hba_count      5616.0  7.643777e-08   0.05   \n",
       "\n",
       "                       Interpretation  \n",
       "0  Different distribution (reject H0)  "
      ]
     },
     "execution_count": 134,
     "metadata": {},
     "output_type": "execute_result"
    }
   ],
   "source": [
    "mannwhitney('hba_count')"
   ]
  },
  {
   "cell_type": "code",
   "execution_count": 135,
   "metadata": {},
   "outputs": [],
   "source": [
    "df_2class.head()\n",
    "df3_act=df_2class[df_2class['class']=='active']\n",
    "df3_inact=df_2class[df_2class['class']=='inactive']"
   ]
  },
  {
   "cell_type": "code",
   "execution_count": 97,
   "metadata": {},
   "outputs": [
    {
     "data": {
      "text/html": [
       "<div>\n",
       "<style scoped>\n",
       "    .dataframe tbody tr th:only-of-type {\n",
       "        vertical-align: middle;\n",
       "    }\n",
       "\n",
       "    .dataframe tbody tr th {\n",
       "        vertical-align: top;\n",
       "    }\n",
       "\n",
       "    .dataframe thead th {\n",
       "        text-align: right;\n",
       "    }\n",
       "</style>\n",
       "<table border=\"1\" class=\"dataframe\">\n",
       "  <thead>\n",
       "    <tr style=\"text-align: right;\">\n",
       "      <th></th>\n",
       "      <th>chembl_id</th>\n",
       "      <th>molecule_pref_name</th>\n",
       "      <th>target_chembl_id</th>\n",
       "      <th>target_pref_name</th>\n",
       "      <th>target_organism</th>\n",
       "      <th>class</th>\n",
       "      <th>pIC50</th>\n",
       "      <th>pubchem_id</th>\n",
       "      <th>molecular_weight</th>\n",
       "      <th>hbd_count</th>\n",
       "      <th>hba_count</th>\n",
       "      <th>xlogp</th>\n",
       "      <th>natural</th>\n",
       "    </tr>\n",
       "  </thead>\n",
       "  <tbody>\n",
       "    <tr>\n",
       "      <th>0</th>\n",
       "      <td>CHEMBL165</td>\n",
       "      <td>RESVERATROL</td>\n",
       "      <td>CHEMBL399</td>\n",
       "      <td>HeLa</td>\n",
       "      <td>Homo sapiens</td>\n",
       "      <td>active</td>\n",
       "      <td>10.647817</td>\n",
       "      <td>445154</td>\n",
       "      <td>228.247</td>\n",
       "      <td>3</td>\n",
       "      <td>3</td>\n",
       "      <td>3.1</td>\n",
       "      <td>1</td>\n",
       "    </tr>\n",
       "    <tr>\n",
       "      <th>1</th>\n",
       "      <td>CHEMBL19224</td>\n",
       "      <td>PAPAVERINE</td>\n",
       "      <td>CHEMBL613633</td>\n",
       "      <td>Ileum</td>\n",
       "      <td>Rattus norvegicus</td>\n",
       "      <td>active</td>\n",
       "      <td>10.229148</td>\n",
       "      <td>4680</td>\n",
       "      <td>339.391</td>\n",
       "      <td>0</td>\n",
       "      <td>5</td>\n",
       "      <td>3.9</td>\n",
       "      <td>1</td>\n",
       "    </tr>\n",
       "    <tr>\n",
       "      <th>2</th>\n",
       "      <td>CHEMBL50</td>\n",
       "      <td>QUERCETIN</td>\n",
       "      <td>CHEMBL2362975</td>\n",
       "      <td>No relevant target</td>\n",
       "      <td>NaN</td>\n",
       "      <td>active</td>\n",
       "      <td>9.958607</td>\n",
       "      <td>5280343</td>\n",
       "      <td>302.238</td>\n",
       "      <td>5</td>\n",
       "      <td>7</td>\n",
       "      <td>1.5</td>\n",
       "      <td>1</td>\n",
       "    </tr>\n",
       "    <tr>\n",
       "      <th>3</th>\n",
       "      <td>CHEMBL107</td>\n",
       "      <td>COLCHICINE</td>\n",
       "      <td>CHEMBL3879801</td>\n",
       "      <td>NON-PROTEIN TARGET</td>\n",
       "      <td>NaN</td>\n",
       "      <td>active</td>\n",
       "      <td>9.443697</td>\n",
       "      <td>6167</td>\n",
       "      <td>399.443</td>\n",
       "      <td>1</td>\n",
       "      <td>6</td>\n",
       "      <td>1.0</td>\n",
       "      <td>1</td>\n",
       "    </tr>\n",
       "    <tr>\n",
       "      <th>4</th>\n",
       "      <td>CHEMBL441687</td>\n",
       "      <td>GLYCYRRHIZIN</td>\n",
       "      <td>CHEMBL3746</td>\n",
       "      <td>11-beta-hydroxysteroid dehydrogenase 2</td>\n",
       "      <td>Homo sapiens</td>\n",
       "      <td>active</td>\n",
       "      <td>9.397940</td>\n",
       "      <td>14982</td>\n",
       "      <td>822.942</td>\n",
       "      <td>8</td>\n",
       "      <td>16</td>\n",
       "      <td>3.7</td>\n",
       "      <td>1</td>\n",
       "    </tr>\n",
       "  </tbody>\n",
       "</table>\n",
       "</div>"
      ],
      "text/plain": [
       "      chembl_id molecule_pref_name target_chembl_id  \\\n",
       "0     CHEMBL165        RESVERATROL        CHEMBL399   \n",
       "1   CHEMBL19224         PAPAVERINE     CHEMBL613633   \n",
       "2      CHEMBL50          QUERCETIN    CHEMBL2362975   \n",
       "3     CHEMBL107         COLCHICINE    CHEMBL3879801   \n",
       "4  CHEMBL441687       GLYCYRRHIZIN       CHEMBL3746   \n",
       "\n",
       "                         target_pref_name    target_organism   class  \\\n",
       "0                                    HeLa       Homo sapiens  active   \n",
       "1                                   Ileum  Rattus norvegicus  active   \n",
       "2                      No relevant target                NaN  active   \n",
       "3                      NON-PROTEIN TARGET                NaN  active   \n",
       "4  11-beta-hydroxysteroid dehydrogenase 2       Homo sapiens  active   \n",
       "\n",
       "       pIC50  pubchem_id  molecular_weight  hbd_count  hba_count  xlogp  \\\n",
       "0  10.647817      445154           228.247          3          3    3.1   \n",
       "1  10.229148        4680           339.391          0          5    3.9   \n",
       "2   9.958607     5280343           302.238          5          7    1.5   \n",
       "3   9.443697        6167           399.443          1          6    1.0   \n",
       "4   9.397940       14982           822.942          8         16    3.7   \n",
       "\n",
       "   natural  \n",
       "0        1  \n",
       "1        1  \n",
       "2        1  \n",
       "3        1  \n",
       "4        1  "
      ]
     },
     "execution_count": 97,
     "metadata": {},
     "output_type": "execute_result"
    }
   ],
   "source": [
    "df3_act.head()"
   ]
  },
  {
   "cell_type": "markdown",
   "metadata": {},
   "source": [
    "<b> <font size=4> Density Plots </font> <b>"
   ]
  },
  {
   "cell_type": "code",
   "execution_count": 136,
   "metadata": {},
   "outputs": [
    {
     "data": {
      "image/png": "[encoded data removed]",
      "text/plain": [
       "<Figure size 720x720 with 1 Axes>"
      ]
     },
     "metadata": {},
     "output_type": "display_data"
    }
   ],
   "source": [
    "fig = plt.figure(figsize =(10,10)) \n",
    "plt.rcParams.update({'font.size': 14})\n",
    "act=sns.kdeplot(df3_act['molecular_weight'], color='salmon', shade=True,Label='Active')\n",
    "inact=sns.kdeplot(df3_inact['molecular_weight'], color='cyan', shade=True,Label='Inactive')\n",
    "\n",
    "\n",
    "# plt.vlines(x_median2, 0, y_median2,label='median_hum', color='r')\n",
    "# plt.vlines(x_median, 0, y_median,label='median_ind')\n",
    "plt.title(\"MW distribution of Active and Inactive Flavor Molecules\")\n",
    "plt.xlabel(\"Molecular Weight\",fontsize=14, fontweight='bold')\n",
    "plt.ylabel(\"Density\",fontsize=14, fontweight='bold')\n",
    "#plt.gca().legend(('IndiGen nsSNPs(22 residues)','HUMSAVAR nsSNPs(76 residues)'),loc=\"upper right\")\n",
    "plt.legend(loc=\"upper right\")\n",
    "plt.savefig('plot_density_mw.png')"
   ]
  },
  {
   "cell_type": "code",
   "execution_count": 99,
   "metadata": {},
   "outputs": [
    {
     "data": {
      "text/html": [
       "<div>\n",
       "<style scoped>\n",
       "    .dataframe tbody tr th:only-of-type {\n",
       "        vertical-align: middle;\n",
       "    }\n",
       "\n",
       "    .dataframe tbody tr th {\n",
       "        vertical-align: top;\n",
       "    }\n",
       "\n",
       "    .dataframe thead th {\n",
       "        text-align: right;\n",
       "    }\n",
       "</style>\n",
       "<table border=\"1\" class=\"dataframe\">\n",
       "  <thead>\n",
       "    <tr style=\"text-align: right;\">\n",
       "      <th></th>\n",
       "      <th>chembl_id</th>\n",
       "      <th>molecule_pref_name</th>\n",
       "      <th>target_chembl_id</th>\n",
       "      <th>target_pref_name</th>\n",
       "      <th>target_organism</th>\n",
       "      <th>class</th>\n",
       "      <th>pIC50</th>\n",
       "      <th>pubchem_id</th>\n",
       "      <th>molecular_weight</th>\n",
       "      <th>hbd_count</th>\n",
       "      <th>hba_count</th>\n",
       "      <th>xlogp</th>\n",
       "      <th>natural</th>\n",
       "    </tr>\n",
       "  </thead>\n",
       "  <tbody>\n",
       "    <tr>\n",
       "      <th>0</th>\n",
       "      <td>CHEMBL165</td>\n",
       "      <td>RESVERATROL</td>\n",
       "      <td>CHEMBL399</td>\n",
       "      <td>HeLa</td>\n",
       "      <td>Homo sapiens</td>\n",
       "      <td>active</td>\n",
       "      <td>10.647817</td>\n",
       "      <td>445154</td>\n",
       "      <td>228.247</td>\n",
       "      <td>3</td>\n",
       "      <td>3</td>\n",
       "      <td>3.1</td>\n",
       "      <td>1</td>\n",
       "    </tr>\n",
       "    <tr>\n",
       "      <th>1</th>\n",
       "      <td>CHEMBL19224</td>\n",
       "      <td>PAPAVERINE</td>\n",
       "      <td>CHEMBL613633</td>\n",
       "      <td>Ileum</td>\n",
       "      <td>Rattus norvegicus</td>\n",
       "      <td>active</td>\n",
       "      <td>10.229148</td>\n",
       "      <td>4680</td>\n",
       "      <td>339.391</td>\n",
       "      <td>0</td>\n",
       "      <td>5</td>\n",
       "      <td>3.9</td>\n",
       "      <td>1</td>\n",
       "    </tr>\n",
       "    <tr>\n",
       "      <th>2</th>\n",
       "      <td>CHEMBL50</td>\n",
       "      <td>QUERCETIN</td>\n",
       "      <td>CHEMBL2362975</td>\n",
       "      <td>No relevant target</td>\n",
       "      <td>NaN</td>\n",
       "      <td>active</td>\n",
       "      <td>9.958607</td>\n",
       "      <td>5280343</td>\n",
       "      <td>302.238</td>\n",
       "      <td>5</td>\n",
       "      <td>7</td>\n",
       "      <td>1.5</td>\n",
       "      <td>1</td>\n",
       "    </tr>\n",
       "    <tr>\n",
       "      <th>3</th>\n",
       "      <td>CHEMBL107</td>\n",
       "      <td>COLCHICINE</td>\n",
       "      <td>CHEMBL3879801</td>\n",
       "      <td>NON-PROTEIN TARGET</td>\n",
       "      <td>NaN</td>\n",
       "      <td>active</td>\n",
       "      <td>9.443697</td>\n",
       "      <td>6167</td>\n",
       "      <td>399.443</td>\n",
       "      <td>1</td>\n",
       "      <td>6</td>\n",
       "      <td>1.0</td>\n",
       "      <td>1</td>\n",
       "    </tr>\n",
       "    <tr>\n",
       "      <th>4</th>\n",
       "      <td>CHEMBL441687</td>\n",
       "      <td>GLYCYRRHIZIN</td>\n",
       "      <td>CHEMBL3746</td>\n",
       "      <td>11-beta-hydroxysteroid dehydrogenase 2</td>\n",
       "      <td>Homo sapiens</td>\n",
       "      <td>active</td>\n",
       "      <td>9.397940</td>\n",
       "      <td>14982</td>\n",
       "      <td>822.942</td>\n",
       "      <td>8</td>\n",
       "      <td>16</td>\n",
       "      <td>3.7</td>\n",
       "      <td>1</td>\n",
       "    </tr>\n",
       "  </tbody>\n",
       "</table>\n",
       "</div>"
      ],
      "text/plain": [
       "      chembl_id molecule_pref_name target_chembl_id  \\\n",
       "0     CHEMBL165        RESVERATROL        CHEMBL399   \n",
       "1   CHEMBL19224         PAPAVERINE     CHEMBL613633   \n",
       "2      CHEMBL50          QUERCETIN    CHEMBL2362975   \n",
       "3     CHEMBL107         COLCHICINE    CHEMBL3879801   \n",
       "4  CHEMBL441687       GLYCYRRHIZIN       CHEMBL3746   \n",
       "\n",
       "                         target_pref_name    target_organism   class  \\\n",
       "0                                    HeLa       Homo sapiens  active   \n",
       "1                                   Ileum  Rattus norvegicus  active   \n",
       "2                      No relevant target                NaN  active   \n",
       "3                      NON-PROTEIN TARGET                NaN  active   \n",
       "4  11-beta-hydroxysteroid dehydrogenase 2       Homo sapiens  active   \n",
       "\n",
       "       pIC50  pubchem_id  molecular_weight  hbd_count  hba_count  xlogp  \\\n",
       "0  10.647817      445154           228.247          3          3    3.1   \n",
       "1  10.229148        4680           339.391          0          5    3.9   \n",
       "2   9.958607     5280343           302.238          5          7    1.5   \n",
       "3   9.443697        6167           399.443          1          6    1.0   \n",
       "4   9.397940       14982           822.942          8         16    3.7   \n",
       "\n",
       "   natural  \n",
       "0        1  \n",
       "1        1  \n",
       "2        1  \n",
       "3        1  \n",
       "4        1  "
      ]
     },
     "execution_count": 99,
     "metadata": {},
     "output_type": "execute_result"
    }
   ],
   "source": [
    "df3_act.head()"
   ]
  },
  {
   "cell_type": "code",
   "execution_count": 137,
   "metadata": {},
   "outputs": [
    {
     "data": {
      "image/png": "[encoded data removed]",
      "text/plain": [
       "<Figure size 720x720 with 1 Axes>"
      ]
     },
     "metadata": {},
     "output_type": "display_data"
    }
   ],
   "source": [
    "fig = plt.figure(figsize =(10,10)) \n",
    "plt.rcParams.update({'font.size': 14})\n",
    "act=sns.kdeplot(df3_act['xlogp'], color='salmon', shade=True,Label='Active')\n",
    "inact=sns.kdeplot(df3_inact['xlogp'], color='cyan', shade=True,Label='Inactive')\n",
    "\n",
    "\n",
    "# plt.vlines(x_median2, 0, y_median2,label='median_hum', color='r')\n",
    "# plt.vlines(x_median, 0, y_median,label='median_ind')\n",
    "plt.title(\"LogP distribution of Active and Inactive Flavor Molecules\")\n",
    "plt.xlabel(\"LogP\",fontsize=14, fontweight='bold')\n",
    "plt.ylabel(\"Density\",fontsize=14, fontweight='bold')\n",
    "#plt.gca().legend(('IndiGen nsSNPs(22 residues)','HUMSAVAR nsSNPs(76 residues)'),loc=\"upper right\")\n",
    "plt.legend(loc=\"upper right\")\n",
    "plt.savefig('plot_density_logp.png')"
   ]
  },
  {
   "cell_type": "code",
   "execution_count": 138,
   "metadata": {},
   "outputs": [
    {
     "data": {
      "image/png": "[encoded data removed]",
      "text/plain": [
       "<Figure size 720x720 with 1 Axes>"
      ]
     },
     "metadata": {},
     "output_type": "display_data"
    }
   ],
   "source": [
    "fig = plt.figure(figsize =(10,10)) \n",
    "plt.rcParams.update({'font.size': 14})\n",
    "act=sns.kdeplot(df3_act['hbd_count'], color='salmon', shade=True,Label='Active')\n",
    "inact=sns.kdeplot(df3_inact['hbd_count'], color='cyan', shade=True,Label='Inactive')\n",
    "\n",
    "\n",
    "# plt.vlines(x_median2, 0, y_median2,label='median_hum', color='r')\n",
    "# plt.vlines(x_median, 0, y_median,label='median_ind')\n",
    "plt.title(\"Num-Hydrogen Bond Donors distribution of Active and Inactive Flavor Molecules\")\n",
    "plt.xlabel(\"Num-Hydrogen Bond Donors\",fontsize=14, fontweight='bold')\n",
    "plt.ylabel(\"Density\",fontsize=14, fontweight='bold')\n",
    "#plt.gca().legend(('IndiGen nsSNPs(22 residues)','HUMSAVAR nsSNPs(76 residues)'),loc=\"upper right\")\n",
    "plt.legend(loc=\"upper right\")\n",
    "plt.savefig('plot_density_hbd.png')"
   ]
  },
  {
   "cell_type": "code",
   "execution_count": 139,
   "metadata": {},
   "outputs": [
    {
     "data": {
      "image/png": "[encoded data removed]",
      "text/plain": [
       "<Figure size 720x720 with 1 Axes>"
      ]
     },
     "metadata": {},
     "output_type": "display_data"
    }
   ],
   "source": [
    "fig = plt.figure(figsize =(10,10)) \n",
    "plt.rcParams.update({'font.size': 14})\n",
    "act=sns.kdeplot(df3_act['hba_count'], color='salmon', shade=True,Label='Active')\n",
    "inact=sns.kdeplot(df3_inact['hba_count'], color='cyan', shade=True,Label='Inactive')\n",
    "\n",
    "\n",
    "# plt.vlines(x_median2, 0, y_median2,label='median_hum', color='r')\n",
    "# plt.vlines(x_median, 0, y_median,label='median_ind')\n",
    "plt.title(\"Num-Hydrogen Bond Acceptors distribution of Active and Inactive Flavor Molecules\")\n",
    "plt.xlabel(\"Num-Hydrogen Bond Acceptors\",fontsize=14, fontweight='bold')\n",
    "plt.ylabel(\"Density\",fontsize=14, fontweight='bold')\n",
    "#plt.gca().legend(('IndiGen nsSNPs(22 residues)','HUMSAVAR nsSNPs(76 residues)'),loc=\"upper right\")\n",
    "plt.legend(loc=\"upper right\")\n",
    "plt.savefig('plot_density_hba.png')"
   ]
  },
  {
   "cell_type": "markdown",
   "metadata": {},
   "source": [
    "#### **Interpretation of Statistical Results**\n",
    "##### **Box Plots**\n",
    "\n",
    "###### **pIC50 values**\n",
    "\n",
    "Taking a look at pIC50 values, the **actives** and **inactives** displayed ***statistically significant difference***, which is to be expected since threshold values (``IC50 < 1,000 nM = Actives while IC50 > 10,000 nM = Inactives``, corresponding to ``pIC50 > 6 = Actives and pIC50 < 5 = Inactives``) were used to define actives and inactives.\n",
    "\n",
    "###### **Lipinski's descriptors**\n",
    "\n",
    "All of the Lipinski's descriptors except LogP exhibited ***statistically significant difference*** between the **actives** and **inactives**."
   ]
  },
  {
   "cell_type": "code",
   "execution_count": 136,
   "metadata": {},
   "outputs": [
    {
     "name": "stdout",
     "output_type": "stream",
     "text": [
      "  adding: bioactivity_data_flavormolecules_actual_datapreprocessed_output2.csv (164 bytes security) (deflated 74%)\n",
      "  adding: bioactivity_data_flavormolecules_actual_ouput1.csv (164 bytes security) (deflated 85%)\n",
      "  adding: bioactivity_data_flavormolecules_scraped_datapreprocessed_output2.csv (164 bytes security) (deflated 70%)\n",
      "  adding: df2.csv (164 bytes security) (deflated 69%)\n",
      "  adding: fdb scraped data/bioactivity_data_flavormolecules_scraped.csv (164 bytes security) (deflated 84%)\n",
      "  adding: fdb scraped data/bioactivity_data_flavormolecules_scraped_ouput1.csv (164 bytes security) (deflated 84%)\n",
      "  adding: fdb scraped data/flavordb_molecules_scraped.csv (164 bytes security) (deflated 72%)\n",
      "  adding: fdb scraped data/oubch_to_chemblid.csv (164 bytes security) (deflated 62%)\n",
      "  adding: fdb scraped data/try.csv (164 bytes security) (deflated 64%)\n",
      "  adding: fdb_classification_bioactivity_pIC50.csv (164 bytes security) (deflated 69%)\n",
      "  adding: fdb_molecules_22Nov.csv (164 bytes security) (deflated 73%)\n",
      "  adding: fdb_natural_2254.csv (164 bytes security) (deflated 72%)\n",
      "  adding: mannwhitneyu_hba_count.csv (164 bytes security) (deflated 10%)\n",
      "  adding: mannwhitneyu_hbd_count.csv (164 bytes security) (deflated 9%)\n",
      "  adding: mannwhitneyu_molecular_weight.csv (164 bytes security) (deflated 10%)\n",
      "  adding: mannwhitneyu_pIC50.csv (164 bytes security) (deflated 9%)\n",
      "  adding: mannwhitneyu_xlogp.csv (164 bytes security) (deflated 9%)\n",
      "  adding: plot_bioactivity_class.png (164 bytes security) (deflated 23%)\n",
      "  adding: plot_LogP.png (164 bytes security) (deflated 19%)\n",
      "  adding: plot_MW.png (164 bytes security) (deflated 19%)\n",
      "  adding: plot_MW_vs_LogP.png (164 bytes security) (deflated 3%)\n",
      "  adding: plot_NumHAcceptors.png (164 bytes security) (deflated 19%)\n",
      "  adding: plot_NumHDonors.png (164 bytes security) (deflated 19%)\n",
      "  adding: pubchem_flavordb.csv (164 bytes security) (deflated 62%)\n",
      "  adding: pubchem_tochembl.csv (164 bytes security) (deflated 62%)\n",
      "  adding: till_now_bioactivity.csv (164 bytes security) (deflated 93%)\n",
      "  adding: till_now_bioactivity_2.csv (164 bytes security) (deflated 89%)\n",
      "  adding: till_now_bioactivity_3.csv (164 bytes security) (deflated 88%)\n"
     ]
    }
   ],
   "source": [
    "! zip -r results.zip . -i *.csv *.png"
   ]
  },
  {
   "cell_type": "code",
   "execution_count": null,
   "metadata": {},
   "outputs": [],
   "source": []
  }
 ],
 "metadata": {
  "kernelspec": {
   "display_name": "Python 3",
   "language": "python",
   "name": "python3"
  },
  "language_info": {
   "codemirror_mode": {
    "name": "ipython",
    "version": 3
   },
   "file_extension": ".py",
   "mimetype": "text/x-python",
   "name": "python",
   "nbconvert_exporter": "python",
   "pygments_lexer": "ipython3",
   "version": "3.7.6"
  }
 },
 "nbformat": 4,
 "nbformat_minor": 4
}
